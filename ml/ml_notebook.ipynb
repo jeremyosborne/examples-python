{
 "cells": [
  {
   "cell_type": "code",
   "execution_count": 1,
   "metadata": {},
   "outputs": [],
   "source": [
    "a = 123"
   ]
  },
  {
   "cell_type": "code",
   "execution_count": 2,
   "metadata": {},
   "outputs": [],
   "source": [
    "b = a + 42"
   ]
  },
  {
   "cell_type": "code",
   "execution_count": 3,
   "metadata": {},
   "outputs": [
    {
     "name": "stdout",
     "output_type": "stream",
     "text": [
      "165\n"
     ]
    }
   ],
   "source": [
    "print(b)"
   ]
  },
  {
   "cell_type": "markdown",
   "metadata": {},
   "source": [
    "# Is this actually markdown?\n",
    "\n",
    "appears to be."
   ]
  },
  {
   "cell_type": "raw",
   "metadata": {},
   "source": [
    "What is `raw NBConvert`? Googling that for myself, it's Raw [Jupyter] Notebook Format."
   ]
  },
  {
   "cell_type": "markdown",
   "metadata": {},
   "source": [
    "# Oh cool, headings are just markdown, too."
   ]
  },
  {
   "cell_type": "code",
   "execution_count": 4,
   "metadata": {},
   "outputs": [
    {
     "name": "stdout",
     "output_type": "stream",
     "text": [
      "a + b = 288\n"
     ]
    }
   ],
   "source": [
    "# Do we still have access to previous variable?\n",
    "print(\"a + b =\", a + b)"
   ]
  },
  {
   "cell_type": "code",
   "execution_count": 12,
   "metadata": {},
   "outputs": [
    {
     "data": {
      "application/json": {
       "cell": {
        "!": "OSMagics",
        "HTML": "Other",
        "SVG": "Other",
        "bash": "Other",
        "capture": "ExecutionMagics",
        "debug": "ExecutionMagics",
        "file": "Other",
        "html": "DisplayMagics",
        "javascript": "DisplayMagics",
        "js": "DisplayMagics",
        "latex": "DisplayMagics",
        "markdown": "DisplayMagics",
        "perl": "Other",
        "prun": "ExecutionMagics",
        "pypy": "Other",
        "python": "Other",
        "python2": "Other",
        "python3": "Other",
        "ruby": "Other",
        "script": "ScriptMagics",
        "sh": "Other",
        "svg": "DisplayMagics",
        "sx": "OSMagics",
        "system": "OSMagics",
        "time": "ExecutionMagics",
        "timeit": "ExecutionMagics",
        "writefile": "OSMagics"
       },
       "line": {
        "alias": "OSMagics",
        "alias_magic": "BasicMagics",
        "autocall": "AutoMagics",
        "automagic": "AutoMagics",
        "autosave": "KernelMagics",
        "bookmark": "OSMagics",
        "cat": "Other",
        "cd": "OSMagics",
        "clear": "KernelMagics",
        "colors": "BasicMagics",
        "config": "ConfigMagics",
        "connect_info": "KernelMagics",
        "cp": "Other",
        "debug": "ExecutionMagics",
        "dhist": "OSMagics",
        "dirs": "OSMagics",
        "doctest_mode": "BasicMagics",
        "ed": "Other",
        "edit": "KernelMagics",
        "env": "OSMagics",
        "gui": "BasicMagics",
        "hist": "Other",
        "history": "HistoryMagics",
        "killbgscripts": "ScriptMagics",
        "ldir": "Other",
        "less": "KernelMagics",
        "lf": "Other",
        "lk": "Other",
        "ll": "Other",
        "load": "CodeMagics",
        "load_ext": "ExtensionMagics",
        "loadpy": "CodeMagics",
        "logoff": "LoggingMagics",
        "logon": "LoggingMagics",
        "logstart": "LoggingMagics",
        "logstate": "LoggingMagics",
        "logstop": "LoggingMagics",
        "ls": "Other",
        "lsmagic": "BasicMagics",
        "lx": "Other",
        "macro": "ExecutionMagics",
        "magic": "BasicMagics",
        "man": "KernelMagics",
        "matplotlib": "PylabMagics",
        "mkdir": "Other",
        "more": "KernelMagics",
        "mv": "Other",
        "notebook": "BasicMagics",
        "page": "BasicMagics",
        "pastebin": "CodeMagics",
        "pdb": "ExecutionMagics",
        "pdef": "NamespaceMagics",
        "pdoc": "NamespaceMagics",
        "pfile": "NamespaceMagics",
        "pinfo": "NamespaceMagics",
        "pinfo2": "NamespaceMagics",
        "pip": "BasicMagics",
        "popd": "OSMagics",
        "pprint": "BasicMagics",
        "precision": "BasicMagics",
        "profile": "BasicMagics",
        "prun": "ExecutionMagics",
        "psearch": "NamespaceMagics",
        "psource": "NamespaceMagics",
        "pushd": "OSMagics",
        "pwd": "OSMagics",
        "pycat": "OSMagics",
        "pylab": "PylabMagics",
        "qtconsole": "KernelMagics",
        "quickref": "BasicMagics",
        "recall": "HistoryMagics",
        "rehashx": "OSMagics",
        "reload_ext": "ExtensionMagics",
        "rep": "Other",
        "rerun": "HistoryMagics",
        "reset": "NamespaceMagics",
        "reset_selective": "NamespaceMagics",
        "rm": "Other",
        "rmdir": "Other",
        "run": "ExecutionMagics",
        "save": "CodeMagics",
        "sc": "OSMagics",
        "set_env": "OSMagics",
        "store": "StoreMagics",
        "sx": "OSMagics",
        "system": "OSMagics",
        "tb": "ExecutionMagics",
        "time": "ExecutionMagics",
        "timeit": "ExecutionMagics",
        "unalias": "OSMagics",
        "unload_ext": "ExtensionMagics",
        "who": "NamespaceMagics",
        "who_ls": "NamespaceMagics",
        "whos": "NamespaceMagics",
        "xdel": "NamespaceMagics",
        "xmode": "BasicMagics"
       }
      },
      "text/plain": [
       "Available line magics:\n",
       "%alias  %alias_magic  %autocall  %automagic  %autosave  %bookmark  %cat  %cd  %clear  %colors  %config  %connect_info  %cp  %debug  %dhist  %dirs  %doctest_mode  %ed  %edit  %env  %gui  %hist  %history  %killbgscripts  %ldir  %less  %lf  %lk  %ll  %load  %load_ext  %loadpy  %logoff  %logon  %logstart  %logstate  %logstop  %ls  %lsmagic  %lx  %macro  %magic  %man  %matplotlib  %mkdir  %more  %mv  %notebook  %page  %pastebin  %pdb  %pdef  %pdoc  %pfile  %pinfo  %pinfo2  %popd  %pprint  %precision  %profile  %prun  %psearch  %psource  %pushd  %pwd  %pycat  %pylab  %qtconsole  %quickref  %recall  %rehashx  %reload_ext  %rep  %rerun  %reset  %reset_selective  %rm  %rmdir  %run  %save  %sc  %set_env  %store  %sx  %system  %tb  %time  %timeit  %unalias  %unload_ext  %who  %who_ls  %whos  %xdel  %xmode\n",
       "\n",
       "Available cell magics:\n",
       "%%!  %%HTML  %%SVG  %%bash  %%capture  %%debug  %%file  %%html  %%javascript  %%js  %%latex  %%markdown  %%perl  %%prun  %%pypy  %%python  %%python2  %%python3  %%ruby  %%script  %%sh  %%svg  %%sx  %%system  %%time  %%timeit  %%writefile\n",
       "\n",
       "Automagic is ON, % prefix IS NOT needed for line magics."
      ]
     },
     "execution_count": 12,
     "metadata": {},
     "output_type": "execute_result"
    }
   ],
   "source": [
    "# Magic commands\n",
    "%lsmagic"
   ]
  },
  {
   "cell_type": "code",
   "execution_count": 23,
   "metadata": {},
   "outputs": [],
   "source": [
    "# Output not exported.\n",
    "# Get help on a particular cell magic\n",
    "?%%capture"
   ]
  },
  {
   "cell_type": "code",
   "execution_count": 25,
   "metadata": {},
   "outputs": [],
   "source": [
    "# Output not exported.\n",
    "%pycat hello.py"
   ]
  },
  {
   "cell_type": "code",
   "execution_count": 1,
   "metadata": {},
   "outputs": [
    {
     "name": "stdout",
     "output_type": "stream",
     "text": [
      "\n",
      "\n",
      "\n",
      "*** numpy ***\n",
      "\n",
      "\n",
      "\n",
      "np.arange(15).reshape(3, 5):\n",
      " [[ 0  1  2  3  4]\n",
      " [ 5  6  7  8  9]\n",
      " [10 11 12 13 14]]\n",
      "\n",
      "np.zeros((10, 2))\n",
      " [[0. 0.]\n",
      " [0. 0.]\n",
      " [0. 0.]\n",
      " [0. 0.]\n",
      " [0. 0.]\n",
      " [0. 0.]\n",
      " [0. 0.]\n",
      " [0. 0.]\n",
      " [0. 0.]\n",
      " [0. 0.]]\n",
      "\n",
      "\n",
      "\n",
      "*** sklearn ***\n",
      "\n",
      "\n",
      "\n",
      "datasets must be in (n_samples, n_features) shape.\n",
      "Shape of original digit images (cannot be consumed by scikit learn): (1797, 8, 8)\n",
      "Shape of digits dataset that can be consumed by scikitlearn: (1797, 64)\n",
      "Predict the value of the last digit: [8]\n"
     ]
    },
    {
     "data": {
      "text/plain": [
       "['saved-classifier.digits.pkl']"
      ]
     },
     "execution_count": 1,
     "metadata": {},
     "output_type": "execute_result"
    }
   ],
   "source": [
    "# %load hello.py\n",
    "# Using the above will copy-paste the below on first run, causing the code to get exported.\n",
    "# http://scikit-learn.org/stable/tutorial/basic/tutorial.html\n",
    "\n",
    "import matplotlib.pyplot as plt\n",
    "# MacOS rendering problem fix: https://stackoverflow.com/questions/29433824/unable-to-import-matplotlib-pyplot-as-plt-in-virtualenv#comment64137123_35107136\n",
    "import numpy as np\n",
    "# import pickle\n",
    "from sklearn import datasets\n",
    "from sklearn import svm\n",
    "from sklearn.externals import joblib\n",
    "\n",
    "print('\\n\\n\\n*** numpy ***\\n\\n\\n')\n",
    "a = np.arange(15).reshape(3, 5)\n",
    "print('np.arange(15).reshape(3, 5):\\n', a)\n",
    "\n",
    "print('')\n",
    "\n",
    "zeros = np.zeros((10, 2))\n",
    "print('np.zeros((10, 2))\\n', zeros)\n",
    "\n",
    "print('\\n\\n\\n*** sklearn ***\\n\\n\\n')\n",
    "iris = datasets.load_iris()\n",
    "digits = datasets.load_digits()\n",
    "print('datasets must be in (n_samples, n_features) shape.')\n",
    "print('Shape of original digit images (cannot be consumed by scikit learn):', digits.images.shape)\n",
    "# Need to flatten the 8x8 image into a vactor 64 length.\n",
    "print('Shape of digits dataset that can be consumed by scikitlearn:', digits.data.shape)\n",
    "# print('digits descriptor:', digits.DESCR)\n",
    "\n",
    "clf = svm.SVC(gamma=0.001, C=100.)\n",
    "# fit == learn\n",
    "clf.fit(digits.data[:-1], digits.target[:-1])\n",
    "\n",
    "# predict values based of previous training\n",
    "x = clf.predict(digits.data[-1:])\n",
    "print('Predict the value of the last digit:', x)\n",
    "\n",
    "# Can save (serialize) model data via pickle.\n",
    "# s = pickle.dumps(clf)\n",
    "# but this seems not recommended,\n",
    "# instead user their to-file serializer...\n",
    "joblib.dump(clf, 'saved-classifier.digits.pkl')\n"
   ]
  },
  {
   "cell_type": "code",
   "execution_count": 2,
   "metadata": {},
   "outputs": [
    {
     "name": "stdout",
     "output_type": "stream",
     "text": [
      "Hello world\r\n"
     ]
    }
   ],
   "source": [
    "# Command out to shell\n",
    "!echo \"Hello world\""
   ]
  },
  {
   "cell_type": "code",
   "execution_count": 3,
   "metadata": {},
   "outputs": [
    {
     "data": {
      "application/vnd.jupyter.widget-view+json": {
       "model_id": "ebfe6027ea7a4783877c34c0acba9b74",
       "version_major": 2,
       "version_minor": 0
      },
      "text/plain": [
       "interactive(children=(Text(value='', description='x'), Output()), _dom_classes=('widget-interact',))"
      ]
     },
     "metadata": {},
     "output_type": "display_data"
    },
    {
     "data": {
      "application/vnd.jupyter.widget-view+json": {
       "model_id": "65e5844117944ccdb30838362dd2bd4c",
       "version_major": 2,
       "version_minor": 0
      },
      "text/plain": [
       "Text(value='', placeholder='Type in something and hit return')"
      ]
     },
     "metadata": {},
     "output_type": "display_data"
    }
   ],
   "source": [
    "# Making interactive HTML widgets and handling them in the python code\n",
    "# see: https://blog.dominodatalab.com/interactive-dashboards-in-jupyter/\n",
    "# For ipython notebooks... maybe?\n",
    "from ipywidgets import widgets\n",
    "# For HTML widgets... having trouble seeing which is the defacto one to use, above or below?\n",
    "# from IPython.html import widgets\n",
    "# Nope, the above appears to be deprecated, use ipywidgets\n",
    "from IPython.display import display\n",
    "\n",
    "# Implicit widget defintion\n",
    "# TODO: How do I pass in things like `placeholder` here, which seems easier to do in widgets.Text?\n",
    "def callback(x=''):\n",
    "    print(x)\n",
    "widgets.interact(callback, x='')\n",
    "\n",
    "# Explicit widget definition\n",
    "text = widgets.Text(\n",
    "    placeholder=\"Type in something and hit return\",\n",
    "    continuous_update=True\n",
    ")\n",
    "# event callback\n",
    "text.on_submit(lambda el: print(el.value))\n",
    "display(text)\n"
   ]
  },
  {
   "cell_type": "code",
   "execution_count": null,
   "metadata": {},
   "outputs": [],
   "source": []
  }
 ],
 "metadata": {
  "kernelspec": {
   "display_name": "Python 3",
   "language": "python",
   "name": "python3"
  },
  "language_info": {
   "codemirror_mode": {
    "name": "ipython",
    "version": 3
   },
   "file_extension": ".py",
   "mimetype": "text/x-python",
   "name": "python",
   "nbconvert_exporter": "python",
   "pygments_lexer": "ipython3",
   "version": "3.6.5"
  }
 },
 "nbformat": 4,
 "nbformat_minor": 2
}
